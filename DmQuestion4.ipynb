{
  "nbformat": 4,
  "nbformat_minor": 0,
  "metadata": {
    "colab": {
      "name": "DmQuestion4.ipynb",
      "provenance": [],
      "collapsed_sections": [],
      "toc_visible": true,
      "authorship_tag": "ABX9TyP5Vdwchpz4D+XamXqqf0jM",
      "include_colab_link": true
    },
    "kernelspec": {
      "name": "python3",
      "display_name": "Python 3"
    },
    "language_info": {
      "name": "python"
    }
  },
  "cells": [
    {
      "cell_type": "markdown",
      "metadata": {
        "id": "view-in-github",
        "colab_type": "text"
      },
      "source": [
        "<a href=\"https://colab.research.google.com/github/tomisi/DiscreteMaths/blob/main/DmQuestion4.ipynb\" target=\"_parent\"><img src=\"https://colab.research.google.com/assets/colab-badge.svg\" alt=\"Open In Colab\"/></a>"
      ]
    },
    {
      "cell_type": "markdown",
      "metadata": {
        "id": "-sVCbSRVUsww"
      },
      "source": [
        "In this we create a list A ans create a copy of it. Then convertthe element A and B into a relation R as per the instruction of the question. After that we use a typr () built in function to check if R is a set or not:"
      ]
    },
    {
      "cell_type": "code",
      "metadata": {
        "colab": {
          "base_uri": "https://localhost:8080/"
        },
        "id": "wmPqBPZ-VGXh",
        "outputId": "d8d77a0e-49b6-451a-ea9a-e3be1624da4d"
      },
      "source": [
        "A = ['a', 'b']\n",
        "B = A.copy()\n",
        "# Sets are immutable, however we initialize R as list\n",
        "R = []\n",
        "i = 0\n",
        "while i < len(A):\n",
        "  R.append((A[i], B[i]))\n",
        "  i += 1\n",
        "# We then convert R which was a list to set\n",
        "R = set(R)\n",
        "# Checking if R is a set\n",
        "if type (R) == set:\n",
        "  print(\"R is a set\")\n",
        "else:\n",
        "  print(\"R is not a set\")"
      ],
      "execution_count": null,
      "outputs": [
        {
          "output_type": "stream",
          "name": "stdout",
          "text": [
            "R is a set\n"
          ]
        }
      ]
    },
    {
      "cell_type": "code",
      "metadata": {
        "colab": {
          "base_uri": "https://localhost:8080/"
        },
        "id": "Gbd5IUEqXBK2",
        "outputId": "9e02079b-72f1-46fe-81a1-62ea53722c42"
      },
      "source": [
        "# Checking if R is a subset\n",
        "import itertools\n",
        "A_x_A = set(itertools.product(A,A))\n",
        "result = R.issubset(A_x_A)\n",
        "if result == True:\n",
        "  print(\"R is a subset of A_x_A\")\n",
        "else:\n",
        "  print(\"R is not a subset of A_x_A\")"
      ],
      "execution_count": null,
      "outputs": [
        {
          "output_type": "stream",
          "name": "stdout",
          "text": [
            "R is a subset of A_x_A\n"
          ]
        }
      ]
    },
    {
      "cell_type": "code",
      "metadata": {
        "id": "INI5h7AkaLj_"
      },
      "source": [
        "A_x_A\n",
        "\n",
        "{('a', 'a'),  ('a', 'b'),  ('b', 'a'),  ('b', 'b')}"
      ],
      "execution_count": null,
      "outputs": []
    },
    {
      "cell_type": "markdown",
      "metadata": {
        "id": "jRo92vY5YiYR"
      },
      "source": [
        "\n",
        "\n",
        "Here for every tuple in R we unpack it and we check if its two members are equals to each other , if yes we append it to a list y. lastly we check see if the unique members of Y are the same as the unique members of A \n"
      ]
    },
    {
      "cell_type": "code",
      "metadata": {
        "id": "xDunxy1jZ-iC"
      },
      "source": [
        "# Checking for reflexivity\n",
        "def isReflective(r):\n",
        "  y= []\n",
        "  for a1, a2 in R:\n",
        "    if a1 == a2:\n",
        "      y.append(a1)\n",
        "  if set(y) == set(A):\n",
        "    print(\"R is reflexive\")\n",
        "  else:\n",
        "    print(\"R is not reflexive because members dont have thier unique numbers\")\n",
        "    print(set(y))\n",
        "\n",
        "    isReflexive(R)"
      ],
      "execution_count": null,
      "outputs": []
    },
    {
      "cell_type": "markdown",
      "metadata": {
        "id": "iSugmOWadIYr"
      },
      "source": [
        "For this Problem we decided to use Graphs data sturcture to solve it. Where each node in the graph contains the members of the set R. Now for the realstion R to be transive, we need to make at least a triangke from the graph. To do that we decided to use the network Libary where we first change the set R to a graph and then looked for the transitivity."
      ]
    },
    {
      "cell_type": "code",
      "metadata": {
        "colab": {
          "base_uri": "https://localhost:8080/"
        },
        "id": "8oDeG_csevjI",
        "outputId": "4c2838e8-cae4-47b7-f391-b3ea796b060a"
      },
      "source": [
        "# You can solve this problem as a graph problem and try to find transivity in graphs \n",
        "# Finding transvity in graph can be easily computed using networks libary\n",
        "import networkx as nx\n",
        "g = nx.Graph(R)\n",
        "ans = nx.transitivity(g)\n",
        "if ans == 0:\n",
        "  print('R is not transitive')\n",
        "elif ans >= 1:\n",
        "  print('R is transitive')"
      ],
      "execution_count": null,
      "outputs": [
        {
          "output_type": "stream",
          "name": "stdout",
          "text": [
            "R is not transitive\n"
          ]
        }
      ]
    },
    {
      "cell_type": "markdown",
      "metadata": {
        "id": "rOZYcFK8g3jh"
      },
      "source": [
        "This code below checks if R symetric. We loop through the set R and we unpack the tuples and for every tuple we check if its inverse is present in R and we return a boolean value\n"
      ]
    },
    {
      "cell_type": "code",
      "metadata": {
        "colab": {
          "base_uri": "https://localhost:8080/"
        },
        "id": "tdqxrUr8hUwv",
        "outputId": "fa0c2f68-6c4e-4398-c416-18e6ef24f1d3"
      },
      "source": [
        "def is_symetric(R):\n",
        "  for item in R:\n",
        "      (a,b) = item\n",
        "      if (b,a) in R:\n",
        "        return f\"R is symetric: {(a,b), (b,a)}\"\n",
        "  \n",
        "  return f\"R is symetric: {(a,b)}\"\n",
        "  \n",
        "is_symetric"
      ],
      "execution_count": null,
      "outputs": [
        {
          "output_type": "execute_result",
          "data": {
            "text/plain": [
              "<function __main__.is_symetric>"
            ]
          },
          "metadata": {},
          "execution_count": 32
        }
      ]
    }
  ]
}